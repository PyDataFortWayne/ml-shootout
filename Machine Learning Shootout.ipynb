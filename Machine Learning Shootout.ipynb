{
 "cells": [
  {
   "cell_type": "markdown",
   "metadata": {},
   "source": [
    "# Machine Learning Shootout"
   ]
  },
  {
   "cell_type": "code",
   "execution_count": 1,
   "metadata": {},
   "outputs": [],
   "source": [
    "import pandas as pd\n",
    "import numpy as np\n",
    "import os\n",
    "#import seaborn as sns # heatmaps yay\n",
    "\n",
    "from datetime import datetime\n",
    "\n",
    "#from sklearn.preprocessing import StandardScaler\n",
    "from sklearn.preprocessing import LabelEncoder\n",
    "\n",
    "from scipy.stats import skew\n",
    "#from scipy.stats import norm\n",
    "from scipy.stats import boxcox\n",
    "\n",
    "from scipy.special import inv_boxcox\n",
    "\n",
    "import math\n",
    "\n",
    "#import matplotlib.pyplot as plt\n",
    "#%matplotlib inline\n",
    "from tpot import TPOTRegressor\n",
    "from dask.distributed import Client"
   ]
  },
  {
   "cell_type": "code",
   "execution_count": 12,
   "metadata": {},
   "outputs": [
    {
     "name": "stderr",
     "output_type": "stream",
     "text": [
      "/home/marktrovinger/anaconda3/envs/automatedML/lib/python3.7/site-packages/distributed/dashboard/core.py:72: UserWarning: \n",
      "Port 8787 is already in use. \n",
      "Perhaps you already have a cluster running?\n",
      "Hosting the diagnostics dashboard on a random port instead.\n",
      "  warnings.warn(\"\\n\" + msg)\n"
     ]
    }
   ],
   "source": [
    "client = Client(n_workers=6, threads_per_worker=2)"
   ]
  },
  {
   "cell_type": "code",
   "execution_count": 13,
   "metadata": {},
   "outputs": [
    {
     "data": {
      "text/html": [
       "<table style=\"border: 2px solid white;\">\n",
       "<tr>\n",
       "<td style=\"vertical-align: top; border: 0px solid white\">\n",
       "<h3 style=\"text-align: left;\">Client</h3>\n",
       "<ul style=\"text-align: left; list-style: none; margin: 0; padding: 0;\">\n",
       "  <li><b>Scheduler: </b>tcp://127.0.0.1:34017</li>\n",
       "  <li><b>Dashboard: </b><a href='http://127.0.0.1:36983/status' target='_blank'>http://127.0.0.1:36983/status</a>\n",
       "</ul>\n",
       "</td>\n",
       "<td style=\"vertical-align: top; border: 0px solid white\">\n",
       "<h3 style=\"text-align: left;\">Cluster</h3>\n",
       "<ul style=\"text-align: left; list-style:none; margin: 0; padding: 0;\">\n",
       "  <li><b>Workers: </b>6</li>\n",
       "  <li><b>Cores: </b>12</li>\n",
       "  <li><b>Memory: </b>33.74 GB</li>\n",
       "</ul>\n",
       "</td>\n",
       "</tr>\n",
       "</table>"
      ],
      "text/plain": [
       "<Client: scheduler='tcp://127.0.0.1:34017' processes=6 cores=12>"
      ]
     },
     "execution_count": 13,
     "metadata": {},
     "output_type": "execute_result"
    }
   ],
   "source": [
    "client"
   ]
  },
  {
   "cell_type": "code",
   "execution_count": 14,
   "metadata": {},
   "outputs": [],
   "source": [
    "lmbda_opts = {}"
   ]
  },
  {
   "cell_type": "code",
   "execution_count": 15,
   "metadata": {},
   "outputs": [],
   "source": [
    "def drop_high_missing_features(df):\n",
    "    tot_rec = len(df.index)\n",
    "    for col in df.columns.values:\n",
    "        if df[col].isnull().sum() / tot_rec > 0.15:\n",
    "            del df[col]\n",
    "\n",
    "def impute_missing_data(df):\n",
    "    fill_with = {'None': ['PoolQC', 'MiscFeature', 'Alley', 'Fence',\n",
    "                          'FireplaceQu', 'GarageType', 'GarageFinish',\n",
    "                          'GarageQual', 'BsmtQual', 'BsmtCond', 'BsmtExposure',\n",
    "                          'BsmtFinType1', 'BsmtFinType2', 'MasVnrType', 'MSSubClass'],\n",
    "                 0: ['GarageYrBlt', 'GarageArea', 'GarageCars',\n",
    "                   'BsmtFinSF1', 'BsmtFinSF2', 'BsmtUnfSF', \n",
    "                   'TotalBsmtSF', 'BsmtFullBath', 'BsmtHalfBath',\n",
    "                   'MasVnrArea'],\n",
    "                'Typ': ['Functional']}\n",
    "    for fw in fill_with:\n",
    "        for f in fill_with[fw]:\n",
    "            df[f] = df[f].fillna(fw)\n",
    "    \n",
    "    \n",
    "    #df[\"Functional\"] = df[\"Functional\"].fillna(\"Typ\")\n",
    "    \n",
    "    # Fill with the mode\n",
    "    mode_list = ['SaleType', 'Exterior2nd', 'Exterior1st', 'KitchenQual', \n",
    "                 'Electrical', 'MSZoning']\n",
    "    for f in mode_list:\n",
    "        df[f] = df[f].fillna(df[f].mode()[0])\n",
    "    \n",
    "    \n",
    "    # Fill the missing lot frontage with the median value for the neighborhood\n",
    "    df[\"LotFrontage\"] = df.groupby(\"Neighborhood\")[\"LotFrontage\"].transform(lambda x: x.fillna(x.median()))\n",
    "    \n",
    "    return df\n",
    "\n",
    "def calculate_nulls(df):\n",
    "    df_nulls = df.copy().isnull().sum()\n",
    "    df_nulls = df_nulls.to_frame().rename(columns={0:'num_nulls'})\n",
    "    df_nulls['total_records'] = len(df.index)\n",
    "    df_nulls['pct_null'] = df_nulls['num_nulls'] / df_nulls['total_records'] * 100\n",
    "    df_nulls = df_nulls[df_nulls['num_nulls'] > 0].sort_values(by='pct_null', ascending=False)\n",
    "    return df_nulls\n",
    "\n",
    "def process_df(df, is_test=False):\n",
    "    df.set_index('Id')\n",
    "\n",
    "    df = impute_missing_data(df)\n",
    "    \n",
    "    df = df.drop(['Utilities'], axis=1)\n",
    "\n",
    "    # Convert to strings as they're categories:\n",
    "    str_cols = ['MSSubClass', 'OverallCond', 'MoSold', 'YrSold', 'YearRemodAdd', 'YearBuilt', 'GarageYrBlt']\n",
    "    for f in str_cols:\n",
    "        df[f] = df[f].astype(str)\n",
    "\n",
    "    ohe_cols = df.dtypes[df.dtypes == \"object\"].index\n",
    "    df_dummies = pd.get_dummies(df[ohe_cols])\n",
    "    df = df.drop(ohe_cols, axis='columns')\n",
    "    df = pd.concat([df, df_dummies], sort=False, axis='columns')\n",
    "\n",
    "    # Use a label encoder for the categorical fields\n",
    "    le_cols = ['FireplaceQu', 'BsmtQual', 'BsmtCond', 'GarageQual', 'GarageCond', \n",
    "           'ExterQual', 'ExterCond','HeatingQC', 'PoolQC', 'KitchenQual', 'BsmtFinType1', \n",
    "           'BsmtFinType2', 'Functional', 'Fence', 'BsmtExposure', 'GarageFinish', 'LandSlope',\n",
    "           'LotShape', 'PavedDrive', 'Street', 'Alley', 'CentralAir', 'MSSubClass', 'OverallCond', \n",
    "           'MoSold', 'YrSold', 'YearRemodAdd', 'YearBuilt', 'GarageYrBlt']\n",
    "    for c in le_cols:\n",
    "        if c in df.columns.values:\n",
    "            le = LabelEncoder() \n",
    "            le.fit(list(df[c].values)) \n",
    "            df[c] = le.transform(list(df[c].values))\n",
    "        \n",
    "    numeric_feats = df.dtypes[df.dtypes != \"object\"].index.values        \n",
    "    df = df.loc[:, numeric_feats]\n",
    "        \n",
    "    # Sale Price is in our training data, but not testing data\n",
    "    shift = 1.0\n",
    "    # Train data\n",
    "    if 'SalePrice' in df.columns.values:\n",
    "        filter = (df['GrLivArea'] > 4000) & (df['SalePrice'] < 200000)\n",
    "        df = df.loc[~filter, :]\n",
    "\n",
    "        # Check the skew of all numerical features\n",
    "        skewed_feats = df[numeric_feats[1:]].apply(lambda x: skew(x.dropna())).sort_values(ascending=False)\n",
    "        skewness = pd.DataFrame({'Skew' :skewed_feats})\n",
    "        \n",
    "        for f in skewness[abs(skewness) > 0.75].index:\n",
    "            if f not in le_cols and '_' not in f: #ignore label encoded fields and OHE columns\n",
    "                df[f], lmbda_opts[f] = boxcox(df[f] + shift)\n",
    "\n",
    "    else:  # Test data\n",
    "        for f in lmbda_opts:\n",
    "            if f in df.columns:\n",
    "                df[f] = boxcox(df[f] + shift, lmbda=lmbda_opts[f])\n",
    "            elif f != 'SalePrice':\n",
    "                df[f] = 0\n",
    "\n",
    "    return df"
   ]
  },
  {
   "cell_type": "code",
   "execution_count": 16,
   "metadata": {},
   "outputs": [],
   "source": [
    "df = pd.read_csv(os.path.join('data','train.csv'))\n",
    "df = process_df(df)"
   ]
  },
  {
   "cell_type": "code",
   "execution_count": 17,
   "metadata": {},
   "outputs": [],
   "source": [
    "from sklearn.model_selection import train_test_split\n",
    "\n",
    "y = df.pop('SalePrice')\n",
    "X = df\n",
    "\n",
    "X_train, X_test, y_train, y_test = train_test_split(\n",
    "    X, y, test_size=0.2, random_state=8675309)"
   ]
  },
  {
   "cell_type": "code",
   "execution_count": 48,
   "metadata": {},
   "outputs": [],
   "source": [
    "tp = TPOTRegressor(generations=50, population_size=50, use_dask=True, n_jobs=-1, verbosity=3, warm_start=False)"
   ]
  },
  {
   "cell_type": "code",
   "execution_count": 49,
   "metadata": {},
   "outputs": [
    {
     "name": "stdout",
     "output_type": "stream",
     "text": [
      "29 operators have been imported by TPOT.\n"
     ]
    },
    {
     "data": {
      "application/vnd.jupyter.widget-view+json": {
       "model_id": "d3e6d3fcffa9481aa52280b32c74350c",
       "version_major": 2,
       "version_minor": 0
      },
      "text/plain": [
       "HBox(children=(IntProgress(value=0, description='Optimization Progress', max=2550, style=ProgressStyle(descrip…"
      ]
     },
     "metadata": {},
     "output_type": "display_data"
    },
    {
     "name": "stdout",
     "output_type": "stream",
     "text": [
      "_pre_test decorator: _random_mutation_operator: num_test=0 '(slice(None, None, None), 0)' is an invalid key.\n",
      "_pre_test decorator: _random_mutation_operator: num_test=0 Expected n_neighbors <= n_samples,  but n_samples = 50, n_neighbors = 60.\n",
      "_pre_test decorator: _random_mutation_operator: num_test=0 Unsupported set of arguments: The combination of penalty='l2' and loss='epsilon_insensitive' are not supported when dual=False, Parameters: penalty='l2', loss='epsilon_insensitive', dual=False.\n",
      "Generation 1 - Current Pareto front scores:\n",
      "-1\t-0.002092170384332432\tRidgeCV(input_matrix)\n",
      "-2\t-0.0020540081245978875\tRidgeCV(SelectPercentile(input_matrix, SelectPercentile__percentile=34))\n",
      "\n",
      "_pre_test decorator: _random_mutation_operator: num_test=0 Found array with 0 feature(s) (shape=(50, 0)) while a minimum of 1 is required..\n",
      "_pre_test decorator: _random_mutation_operator: num_test=1 '(slice(None, None, None), 0)' is an invalid key.\n",
      "_pre_test decorator: _random_mutation_operator: num_test=0 Unsupported set of arguments: The combination of penalty='l2' and loss='epsilon_insensitive' are not supported when dual=False, Parameters: penalty='l2', loss='epsilon_insensitive', dual=False.\n",
      "_pre_test decorator: _random_mutation_operator: num_test=0 Found array with 0 feature(s) (shape=(50, 0)) while a minimum of 1 is required..\n",
      "_pre_test decorator: _random_mutation_operator: num_test=0 cosine was provided as affinity. Ward can only work with euclidean distances..\n",
      "Pipeline encountered that has previously been evaluated during the optimization process. Using the score from the previous evaluation.\n",
      "Pipeline encountered that has previously been evaluated during the optimization process. Using the score from the previous evaluation.\n",
      "Generation 2 - Current Pareto front scores:\n",
      "-1\t-0.002092170384332432\tRidgeCV(input_matrix)\n",
      "-2\t-0.0020520942773879463\tRidgeCV(SelectPercentile(input_matrix, SelectPercentile__percentile=86))\n",
      "\n",
      "Pipeline encountered that has previously been evaluated during the optimization process. Using the score from the previous evaluation.\n",
      "Generation 3 - Current Pareto front scores:\n",
      "-1\t-0.002092170384332432\tRidgeCV(input_matrix)\n",
      "-2\t-0.0020224082303179837\tRidgeCV(SelectPercentile(input_matrix, SelectPercentile__percentile=63))\n",
      "\n",
      "Pipeline encountered that has previously been evaluated during the optimization process. Using the score from the previous evaluation.\n",
      "Pipeline encountered that has previously been evaluated during the optimization process. Using the score from the previous evaluation.\n",
      "Pipeline encountered that has previously been evaluated during the optimization process. Using the score from the previous evaluation.\n",
      "Pipeline encountered that has previously been evaluated during the optimization process. Using the score from the previous evaluation.\n"
     ]
    },
    {
     "name": "stderr",
     "output_type": "stream",
     "text": [
      "distributed.nanny - WARNING - Worker exceeded 95% memory budget. Restarting\n",
      "distributed.nanny - WARNING - Restarting worker\n",
      "distributed.nanny - WARNING - Worker exceeded 95% memory budget. Restarting\n",
      "distributed.nanny - WARNING - Restarting worker\n",
      "distributed.nanny - WARNING - Worker exceeded 95% memory budget. Restarting\n",
      "distributed.nanny - WARNING - Restarting worker\n",
      "distributed.nanny - WARNING - Worker exceeded 95% memory budget. Restarting\n",
      "distributed.nanny - WARNING - Restarting worker\n",
      "distributed.nanny - WARNING - Worker exceeded 95% memory budget. Restarting\n",
      "distributed.nanny - WARNING - Worker exceeded 95% memory budget. Restarting\n",
      "distributed.nanny - WARNING - Restarting worker\n",
      "distributed.nanny - WARNING - Restarting worker\n"
     ]
    },
    {
     "name": "stdout",
     "output_type": "stream",
     "text": [
      "Generation 4 - Current Pareto front scores:\n",
      "-1\t-0.002092170384332432\tRidgeCV(input_matrix)\n",
      "-2\t-0.0020224082303179837\tRidgeCV(SelectPercentile(input_matrix, SelectPercentile__percentile=63))\n",
      "\n",
      "_pre_test decorator: _random_mutation_operator: num_test=0 Automatic alpha grid generation is not supported for l1_ratio=0. Please supply a grid by providing your estimator with the appropriate `alphas=` argument..\n",
      "_pre_test decorator: _random_mutation_operator: num_test=0 The condensed distance matrix must contain only finite values..\n",
      "_pre_test decorator: _random_mutation_operator: num_test=0 feature_names mismatch: ['Id', 'LotFrontage', 'LotArea', 'OverallQual', 'MasVnrArea', 'BsmtFinSF1', 'BsmtFinSF2', 'BsmtUnfSF', 'TotalBsmtSF', '1stFlrSF', '2ndFlrSF', 'LowQualFinSF', 'GrLivArea', 'BsmtFullBath', 'BsmtHalfBath', 'FullBath', 'HalfBath', 'BedroomAbvGr', 'KitchenAbvGr', 'TotRmsAbvGrd', 'Fireplaces', 'GarageCars', 'GarageArea', 'WoodDeckSF', 'OpenPorchSF', 'EnclosedPorch', '3SsnPorch', 'ScreenPorch', 'PoolArea', 'MiscVal', 'MSSubClass_120', 'MSSubClass_160', 'MSSubClass_180', 'MSSubClass_190', 'MSSubClass_20', 'MSSubClass_30', 'MSSubClass_40', 'MSSubClass_45', 'MSSubClass_50', 'MSSubClass_60', 'MSSubClass_70', 'MSSubClass_75', 'MSSubClass_80', 'MSSubClass_85', 'MSSubClass_90', 'MSZoning_C (all)', 'MSZoning_FV', 'MSZoning_RH', 'MSZoning_RL', 'MSZoning_RM', 'Street_Grvl', 'Street_Pave', 'Alley_Grvl', 'Alley_None', 'Alley_Pave', 'LotShape_IR1', 'LotShape_IR2', 'LotShape_IR3', 'LotShape_Reg', 'LandContour_Bnk', 'LandContour_HLS', 'LandContour_Low', 'LandContour_Lvl', 'LotConfig_Corner', 'LotConfig_CulDSac', 'LotConfig_FR2', 'LotConfig_FR3', 'LotConfig_Inside', 'LandSlope_Gtl', 'LandSlope_Mod', 'LandSlope_Sev', 'Neighborhood_Blmngtn', 'Neighborhood_Blueste', 'Neighborhood_BrDale', 'Neighborhood_BrkSide', 'Neighborhood_ClearCr', 'Neighborhood_CollgCr', 'Neighborhood_Crawfor', 'Neighborhood_Edwards', 'Neighborhood_Gilbert', 'Neighborhood_IDOTRR', 'Neighborhood_MeadowV', 'Neighborhood_Mitchel', 'Neighborhood_NAmes', 'Neighborhood_NPkVill', 'Neighborhood_NWAmes', 'Neighborhood_NoRidge', 'Neighborhood_NridgHt', 'Neighborhood_OldTown', 'Neighborhood_SWISU', 'Neighborhood_Sawyer', 'Neighborhood_SawyerW', 'Neighborhood_Somerst', 'Neighborhood_StoneBr', 'Neighborhood_Timber', 'Neighborhood_Veenker', 'Condition1_Artery', 'Condition1_Feedr', 'Condition1_Norm', 'Condition1_PosA', 'Condition1_PosN', 'Condition1_RRAe', 'Condition1_RRAn', 'Condition1_RRNe', 'Condition1_RRNn', 'Condition2_Artery', 'Condition2_Feedr', 'Condition2_Norm', 'Condition2_PosA', 'Condition2_PosN', 'Condition2_RRAe', 'Condition2_RRAn', 'Condition2_RRNn', 'BldgType_1Fam', 'BldgType_2fmCon', 'BldgType_Duplex', 'BldgType_Twnhs', 'BldgType_TwnhsE', 'HouseStyle_1.5Fin', 'HouseStyle_1.5Unf', 'HouseStyle_1Story', 'HouseStyle_2.5Fin', 'HouseStyle_2.5Unf', 'HouseStyle_2Story', 'HouseStyle_SFoyer', 'HouseStyle_SLvl', 'OverallCond_1', 'OverallCond_2', 'OverallCond_3', 'OverallCond_4', 'OverallCond_5', 'OverallCond_6', 'OverallCond_7', 'OverallCond_8', 'OverallCond_9', 'YearBuilt_1872', 'YearBuilt_1875', 'YearBuilt_1880', 'YearBuilt_1882', 'YearBuilt_1885', 'YearBuilt_1890', 'YearBuilt_1892', 'YearBuilt_1893', 'YearBuilt_1898', 'YearBuilt_1900', 'YearBuilt_1904', 'YearBuilt_1905', 'YearBuilt_1906', 'YearBuilt_1908', 'YearBuilt_1910', 'YearBuilt_1911', 'YearBuilt_1912', 'YearBuilt_1913', 'YearBuilt_1914', 'YearBuilt_1915', 'YearBuilt_1916', 'YearBuilt_1917', 'YearBuilt_1918', 'YearBuilt_1919', 'YearBuilt_1920', 'YearBuilt_1921', 'YearBuilt_1922', 'YearBuilt_1923', 'YearBuilt_1924', 'YearBuilt_1925', 'YearBuilt_1926', 'YearBuilt_1927', 'YearBuilt_1928', 'YearBuilt_1929', 'YearBuilt_1930', 'YearBuilt_1931', 'YearBuilt_1932', 'YearBuilt_1934', 'YearBuilt_1935', 'YearBuilt_1936', 'YearBuilt_1937', 'YearBuilt_1938', 'YearBuilt_1939', 'YearBuilt_1940', 'YearBuilt_1941', 'YearBuilt_1942', 'YearBuilt_1945', 'YearBuilt_1946', 'YearBuilt_1947', 'YearBuilt_1948', 'YearBuilt_1949', 'YearBuilt_1950', 'YearBuilt_1951', 'YearBuilt_1952', 'YearBuilt_1953', 'YearBuilt_1954', 'YearBuilt_1955', 'YearBuilt_1956', 'YearBuilt_1957', 'YearBuilt_1958', 'YearBuilt_1959', 'YearBuilt_1960', 'YearBuilt_1961', 'YearBuilt_1962', 'YearBuilt_1963', 'YearBuilt_1964', 'YearBuilt_1965', 'YearBuilt_1966', 'YearBuilt_1967', 'YearBuilt_1968', 'YearBuilt_1969', 'YearBuilt_1970', 'YearBuilt_1971', 'YearBuilt_1972', 'YearBuilt_1973', 'YearBuilt_1974', 'YearBuilt_1975', 'YearBuilt_1976', 'YearBuilt_1977', 'YearBuilt_1978', 'YearBuilt_1979', 'YearBuilt_1980', 'YearBuilt_1981', 'YearBuilt_1982', 'YearBuilt_1983', 'YearBuilt_1984', 'YearBuilt_1985', 'YearBuilt_1986', 'YearBuilt_1987', 'YearBuilt_1988', 'YearBuilt_1989', 'YearBuilt_1990', 'YearBuilt_1991', 'YearBuilt_1992', 'YearBuilt_1993', 'YearBuilt_1994', 'YearBuilt_1995', 'YearBuilt_1996', 'YearBuilt_1997', 'YearBuilt_1998', 'YearBuilt_1999', 'YearBuilt_2000', 'YearBuilt_2001', 'YearBuilt_2002', 'YearBuilt_2003', 'YearBuilt_2004', 'YearBuilt_2005', 'YearBuilt_2006', 'YearBuilt_2007', 'YearBuilt_2008', 'YearBuilt_2009', 'YearBuilt_2010', 'YearRemodAdd_1950', 'YearRemodAdd_1951', 'YearRemodAdd_1952', 'YearRemodAdd_1953', 'YearRemodAdd_1954', 'YearRemodAdd_1955', 'YearRemodAdd_1956', 'YearRemodAdd_1957', 'YearRemodAdd_1958', 'YearRemodAdd_1959', 'YearRemodAdd_1960', 'YearRemodAdd_1961', 'YearRemodAdd_1962', 'YearRemodAdd_1963', 'YearRemodAdd_1964', 'YearRemodAdd_1965', 'YearRemodAdd_1966', 'YearRemodAdd_1967', 'YearRemodAdd_1968', 'YearRemodAdd_1969', 'YearRemodAdd_1970', 'YearRemodAdd_1971', 'YearRemodAdd_1972', 'YearRemodAdd_1973', 'YearRemodAdd_1974', 'YearRemodAdd_1975', 'YearRemodAdd_1976', 'YearRemodAdd_1977', 'YearRemodAdd_1978', 'YearRemodAdd_1979', 'YearRemodAdd_1980', 'YearRemodAdd_1981', 'YearRemodAdd_1982', 'YearRemodAdd_1983', 'YearRemodAdd_1984', 'YearRemodAdd_1985', 'YearRemodAdd_1986', 'YearRemodAdd_1987', 'YearRemodAdd_1988', 'YearRemodAdd_1989', 'YearRemodAdd_1990', 'YearRemodAdd_1991', 'YearRemodAdd_1992', 'YearRemodAdd_1993', 'YearRemodAdd_1994', 'YearRemodAdd_1995', 'YearRemodAdd_1996', 'YearRemodAdd_1997', 'YearRemodAdd_1998', 'YearRemodAdd_1999', 'YearRemodAdd_2000', 'YearRemodAdd_2001', 'YearRemodAdd_2002', 'YearRemodAdd_2003', 'YearRemodAdd_2004', 'YearRemodAdd_2005', 'YearRemodAdd_2006', 'YearRemodAdd_2007', 'YearRemodAdd_2008', 'YearRemodAdd_2009', 'YearRemodAdd_2010', 'RoofStyle_Flat', 'RoofStyle_Gable', 'RoofStyle_Gambrel', 'RoofStyle_Hip', 'RoofStyle_Mansard', 'RoofStyle_Shed', 'RoofMatl_ClyTile', 'RoofMatl_CompShg', 'RoofMatl_Membran', 'RoofMatl_Metal', 'RoofMatl_Roll', 'RoofMatl_Tar&Grv', 'RoofMatl_WdShake', 'RoofMatl_WdShngl', 'Exterior1st_AsbShng', 'Exterior1st_AsphShn', 'Exterior1st_BrkComm', 'Exterior1st_BrkFace', 'Exterior1st_CBlock', 'Exterior1st_CemntBd', 'Exterior1st_HdBoard', 'Exterior1st_ImStucc', 'Exterior1st_MetalSd', 'Exterior1st_Plywood', 'Exterior1st_Stone', 'Exterior1st_Stucco', 'Exterior1st_VinylSd', 'Exterior1st_Wd Sdng', 'Exterior1st_WdShing', 'Exterior2nd_AsbShng', 'Exterior2nd_AsphShn', 'Exterior2nd_Brk Cmn', 'Exterior2nd_BrkFace', 'Exterior2nd_CBlock', 'Exterior2nd_CmentBd', 'Exterior2nd_HdBoard', 'Exterior2nd_ImStucc', 'Exterior2nd_MetalSd', 'Exterior2nd_Other', 'Exterior2nd_Plywood', 'Exterior2nd_Stone', 'Exterior2nd_Stucco', 'Exterior2nd_VinylSd', 'Exterior2nd_Wd Sdng', 'Exterior2nd_Wd Shng', 'MasVnrType_BrkCmn', 'MasVnrType_BrkFace', 'MasVnrType_None', 'MasVnrType_Stone', 'ExterQual_Ex', 'ExterQual_Fa', 'ExterQual_Gd', 'ExterQual_TA', 'ExterCond_Ex', 'ExterCond_Fa', 'ExterCond_Gd', 'ExterCond_Po', 'ExterCond_TA', 'Foundation_BrkTil', 'Foundation_CBlock', 'Foundation_PConc', 'Foundation_Slab', 'Foundation_Stone', 'Foundation_Wood', 'BsmtQual_Ex', 'BsmtQual_Fa', 'BsmtQual_Gd', 'BsmtQual_None', 'BsmtQual_TA', 'BsmtCond_Fa', 'BsmtCond_Gd', 'BsmtCond_None', 'BsmtCond_Po', 'BsmtCond_TA', 'BsmtExposure_Av', 'BsmtExposure_Gd', 'BsmtExposure_Mn', 'BsmtExposure_No', 'BsmtExposure_None', 'BsmtFinType1_ALQ', 'BsmtFinType1_BLQ', 'BsmtFinType1_GLQ', 'BsmtFinType1_LwQ', 'BsmtFinType1_None', 'BsmtFinType1_Rec', 'BsmtFinType1_Unf', 'BsmtFinType2_ALQ', 'BsmtFinType2_BLQ', 'BsmtFinType2_GLQ', 'BsmtFinType2_LwQ', 'BsmtFinType2_None', 'BsmtFinType2_Rec', 'BsmtFinType2_Unf', 'Heating_Floor', 'Heating_GasA', 'Heating_GasW', 'Heating_Grav', 'Heating_OthW', 'Heating_Wall', 'HeatingQC_Ex', 'HeatingQC_Fa', 'HeatingQC_Gd', 'HeatingQC_Po', 'HeatingQC_TA', 'CentralAir_N', 'CentralAir_Y', 'Electrical_FuseA', 'Electrical_FuseF', 'Electrical_FuseP', 'Electrical_Mix', 'Electrical_SBrkr', 'KitchenQual_Ex', 'KitchenQual_Fa', 'KitchenQual_Gd', 'KitchenQual_TA', 'Functional_Maj1', 'Functional_Maj2', 'Functional_Min1', 'Functional_Min2', 'Functional_Mod', 'Functional_Sev', 'Functional_Typ', 'FireplaceQu_Ex', 'FireplaceQu_Fa', 'FireplaceQu_Gd', 'FireplaceQu_None', 'FireplaceQu_Po', 'FireplaceQu_TA', 'GarageType_2Types', 'GarageType_Attchd', 'GarageType_Basment', 'GarageType_BuiltIn', 'GarageType_CarPort', 'GarageType_Detchd', 'GarageType_None', 'GarageYrBlt_0.0', 'GarageYrBlt_1900.0', 'GarageYrBlt_1906.0', 'GarageYrBlt_1908.0', 'GarageYrBlt_1910.0', 'GarageYrBlt_1914.0', 'GarageYrBlt_1915.0', 'GarageYrBlt_1916.0', 'GarageYrBlt_1918.0', 'GarageYrBlt_1920.0', 'GarageYrBlt_1921.0', 'GarageYrBlt_1922.0', 'GarageYrBlt_1923.0', 'GarageYrBlt_1924.0', 'GarageYrBlt_1925.0', 'GarageYrBlt_1926.0', 'GarageYrBlt_1927.0', 'GarageYrBlt_1928.0', 'GarageYrBlt_1929.0', 'GarageYrBlt_1930.0', 'GarageYrBlt_1931.0', 'GarageYrBlt_1932.0', 'GarageYrBlt_1933.0', 'GarageYrBlt_1934.0', 'GarageYrBlt_1935.0', 'GarageYrBlt_1936.0', 'GarageYrBlt_1937.0', 'GarageYrBlt_1938.0', 'GarageYrBlt_1939.0', 'GarageYrBlt_1940.0', 'GarageYrBlt_1941.0', 'GarageYrBlt_1942.0', 'GarageYrBlt_1945.0', 'GarageYrBlt_1946.0', 'GarageYrBlt_1947.0', 'GarageYrBlt_1948.0', 'GarageYrBlt_1949.0', 'GarageYrBlt_1950.0', 'GarageYrBlt_1951.0', 'GarageYrBlt_1952.0', 'GarageYrBlt_1953.0', 'GarageYrBlt_1954.0', 'GarageYrBlt_1955.0', 'GarageYrBlt_1956.0', 'GarageYrBlt_1957.0', 'GarageYrBlt_1958.0', 'GarageYrBlt_1959.0', 'GarageYrBlt_1960.0', 'GarageYrBlt_1961.0', 'GarageYrBlt_1962.0', 'GarageYrBlt_1963.0', 'GarageYrBlt_1964.0', 'GarageYrBlt_1965.0', 'GarageYrBlt_1966.0', 'GarageYrBlt_1967.0', 'GarageYrBlt_1968.0', 'GarageYrBlt_1969.0', 'GarageYrBlt_1970.0', 'GarageYrBlt_1971.0', 'GarageYrBlt_1972.0', 'GarageYrBlt_1973.0', 'GarageYrBlt_1974.0', 'GarageYrBlt_1975.0', 'GarageYrBlt_1976.0', 'GarageYrBlt_1977.0', 'GarageYrBlt_1978.0', 'GarageYrBlt_1979.0', 'GarageYrBlt_1980.0', 'GarageYrBlt_1981.0', 'GarageYrBlt_1982.0', 'GarageYrBlt_1983.0', 'GarageYrBlt_1984.0', 'GarageYrBlt_1985.0', 'GarageYrBlt_1986.0', 'GarageYrBlt_1987.0', 'GarageYrBlt_1988.0', 'GarageYrBlt_1989.0', 'GarageYrBlt_1990.0', 'GarageYrBlt_1991.0', 'GarageYrBlt_1992.0', 'GarageYrBlt_1993.0', 'GarageYrBlt_1994.0', 'GarageYrBlt_1995.0', 'GarageYrBlt_1996.0', 'GarageYrBlt_1997.0', 'GarageYrBlt_1998.0', 'GarageYrBlt_1999.0', 'GarageYrBlt_2000.0', 'GarageYrBlt_2001.0', 'GarageYrBlt_2002.0', 'GarageYrBlt_2003.0', 'GarageYrBlt_2004.0', 'GarageYrBlt_2005.0', 'GarageYrBlt_2006.0', 'GarageYrBlt_2007.0', 'GarageYrBlt_2008.0', 'GarageYrBlt_2009.0', 'GarageYrBlt_2010.0', 'GarageFinish_Fin', 'GarageFinish_None', 'GarageFinish_RFn', 'GarageFinish_Unf', 'GarageQual_Ex', 'GarageQual_Fa', 'GarageQual_Gd', 'GarageQual_None', 'GarageQual_Po', 'GarageQual_TA', 'GarageCond_Ex', 'GarageCond_Fa', 'GarageCond_Gd', 'GarageCond_Po', 'GarageCond_TA', 'PavedDrive_N', 'PavedDrive_P', 'PavedDrive_Y', 'PoolQC_Ex', 'PoolQC_Fa', 'PoolQC_Gd', 'PoolQC_None', 'Fence_GdPrv', 'Fence_GdWo', 'Fence_MnPrv', 'Fence_MnWw', 'Fence_None', 'MiscFeature_Gar2', 'MiscFeature_None', 'MiscFeature_Othr', 'MiscFeature_Shed', 'MiscFeature_TenC', 'MoSold_1', 'MoSold_10', 'MoSold_11', 'MoSold_12', 'MoSold_2', 'MoSold_3', 'MoSold_4', 'MoSold_5', 'MoSold_6', 'MoSold_7', 'MoSold_8', 'MoSold_9', 'YrSold_2006', 'YrSold_2007', 'YrSold_2008', 'YrSold_2009', 'YrSold_2010', 'SaleType_COD', 'SaleType_CWD', 'SaleType_Con', 'SaleType_ConLD', 'SaleType_ConLI', 'SaleType_ConLw', 'SaleType_New', 'SaleType_Oth', 'SaleType_WD', 'SaleCondition_Abnorml', 'SaleCondition_AdjLand', 'SaleCondition_Alloca', 'SaleCondition_Family', 'SaleCondition_Normal', 'SaleCondition_Partial'] ['f0', 'f1', 'f2', 'f3', 'f4', 'f5', 'f6', 'f7', 'f8', 'f9', 'f10', 'f11', 'f12', 'f13', 'f14', 'f15', 'f16', 'f17', 'f18', 'f19', 'f20', 'f21', 'f22', 'f23', 'f24', 'f25', 'f26', 'f27', 'f28', 'f29', 'f30', 'f31', 'f32', 'f33', 'f34', 'f35', 'f36', 'f37', 'f38', 'f39', 'f40', 'f41', 'f42', 'f43', 'f44', 'f45', 'f46', 'f47', 'f48', 'f49', 'f50', 'f51', 'f52', 'f53', 'f54', 'f55', 'f56', 'f57', 'f58', 'f59', 'f60', 'f61', 'f62', 'f63', 'f64', 'f65', 'f66', 'f67', 'f68', 'f69', 'f70', 'f71', 'f72', 'f73', 'f74', 'f75', 'f76', 'f77', 'f78', 'f79', 'f80', 'f81', 'f82', 'f83', 'f84', 'f85', 'f86', 'f87', 'f88', 'f89', 'f90', 'f91', 'f92', 'f93', 'f94', 'f95', 'f96', 'f97', 'f98', 'f99', 'f100', 'f101', 'f102', 'f103', 'f104', 'f105', 'f106', 'f107', 'f108', 'f109', 'f110', 'f111', 'f112', 'f113', 'f114', 'f115', 'f116', 'f117', 'f118', 'f119', 'f120', 'f121', 'f122', 'f123', 'f124', 'f125', 'f126', 'f127', 'f128', 'f129', 'f130', 'f131', 'f132', 'f133', 'f134', 'f135', 'f136', 'f137', 'f138', 'f139', 'f140', 'f141', 'f142', 'f143', 'f144', 'f145', 'f146', 'f147', 'f148', 'f149', 'f150', 'f151', 'f152', 'f153', 'f154', 'f155', 'f156', 'f157', 'f158', 'f159', 'f160', 'f161', 'f162', 'f163', 'f164', 'f165', 'f166', 'f167', 'f168', 'f169', 'f170', 'f171', 'f172', 'f173', 'f174', 'f175', 'f176', 'f177', 'f178', 'f179', 'f180', 'f181', 'f182', 'f183', 'f184', 'f185', 'f186', 'f187', 'f188', 'f189', 'f190', 'f191', 'f192', 'f193', 'f194', 'f195', 'f196', 'f197', 'f198', 'f199', 'f200', 'f201', 'f202', 'f203', 'f204', 'f205', 'f206', 'f207', 'f208', 'f209', 'f210', 'f211', 'f212', 'f213', 'f214', 'f215', 'f216', 'f217', 'f218', 'f219', 'f220', 'f221', 'f222', 'f223', 'f224', 'f225', 'f226', 'f227', 'f228', 'f229', 'f230', 'f231', 'f232', 'f233', 'f234', 'f235', 'f236', 'f237', 'f238', 'f239', 'f240', 'f241', 'f242', 'f243', 'f244', 'f245', 'f246', 'f247', 'f248', 'f249', 'f250', 'f251', 'f252', 'f253', 'f254', 'f255', 'f256', 'f257', 'f258', 'f259', 'f260', 'f261', 'f262', 'f263', 'f264', 'f265', 'f266', 'f267', 'f268', 'f269', 'f270', 'f271', 'f272', 'f273', 'f274', 'f275', 'f276', 'f277', 'f278', 'f279', 'f280', 'f281', 'f282', 'f283', 'f284', 'f285', 'f286', 'f287', 'f288', 'f289', 'f290', 'f291', 'f292', 'f293', 'f294', 'f295', 'f296', 'f297', 'f298', 'f299', 'f300', 'f301', 'f302', 'f303', 'f304', 'f305', 'f306', 'f307', 'f308', 'f309', 'f310', 'f311', 'f312', 'f313', 'f314', 'f315', 'f316', 'f317', 'f318', 'f319', 'f320', 'f321', 'f322', 'f323', 'f324', 'f325', 'f326', 'f327', 'f328', 'f329', 'f330', 'f331', 'f332', 'f333', 'f334', 'f335', 'f336', 'f337', 'f338', 'f339', 'f340', 'f341', 'f342', 'f343', 'f344', 'f345', 'f346', 'f347', 'f348', 'f349', 'f350', 'f351', 'f352', 'f353', 'f354', 'f355', 'f356', 'f357', 'f358', 'f359', 'f360', 'f361', 'f362', 'f363', 'f364', 'f365', 'f366', 'f367', 'f368', 'f369', 'f370', 'f371', 'f372', 'f373', 'f374', 'f375', 'f376', 'f377', 'f378', 'f379', 'f380', 'f381', 'f382', 'f383', 'f384', 'f385', 'f386', 'f387', 'f388', 'f389', 'f390', 'f391', 'f392', 'f393', 'f394', 'f395', 'f396', 'f397', 'f398', 'f399', 'f400', 'f401', 'f402', 'f403', 'f404', 'f405', 'f406', 'f407', 'f408', 'f409', 'f410', 'f411', 'f412', 'f413', 'f414', 'f415', 'f416', 'f417', 'f418', 'f419', 'f420', 'f421', 'f422', 'f423', 'f424', 'f425', 'f426', 'f427', 'f428', 'f429', 'f430', 'f431', 'f432', 'f433', 'f434', 'f435', 'f436', 'f437', 'f438', 'f439', 'f440', 'f441', 'f442', 'f443', 'f444', 'f445', 'f446', 'f447', 'f448', 'f449', 'f450', 'f451', 'f452', 'f453', 'f454', 'f455', 'f456', 'f457', 'f458', 'f459', 'f460', 'f461', 'f462', 'f463', 'f464', 'f465', 'f466', 'f467', 'f468', 'f469', 'f470', 'f471', 'f472', 'f473', 'f474', 'f475', 'f476', 'f477', 'f478', 'f479', 'f480', 'f481', 'f482', 'f483', 'f484', 'f485', 'f486', 'f487', 'f488', 'f489', 'f490', 'f491', 'f492', 'f493', 'f494', 'f495', 'f496', 'f497', 'f498', 'f499', 'f500', 'f501', 'f502', 'f503', 'f504', 'f505', 'f506', 'f507', 'f508', 'f509', 'f510', 'f511', 'f512', 'f513', 'f514', 'f515', 'f516', 'f517', 'f518', 'f519', 'f520', 'f521', 'f522', 'f523', 'f524', 'f525', 'f526', 'f527', 'f528', 'f529', 'f530', 'f531', 'f532', 'f533', 'f534', 'f535', 'f536', 'f537', 'f538', 'f539', 'f540', 'f541', 'f542', 'f543', 'f544', 'f545', 'f546', 'f547', 'f548', 'f549', 'f550', 'f551', 'f552', 'f553', 'f554', 'f555', 'f556', 'f557', 'f558', 'f559', 'f560', 'f561', 'f562', 'f563', 'f564', 'f565', 'f566', 'f567', 'f568', 'f569', 'f570', 'f571', 'f572', 'f573', 'f574', 'f575', 'f576', 'f577', 'f578', 'f579', 'f580', 'f581', 'f582', 'f583', 'f584', 'f585', 'f586', 'f587', 'f588', 'f589', 'f590', 'f591', 'f592', 'f593', 'f594', 'f595', 'f596', 'f597', 'f598', 'f599', 'f600', 'f601', 'f602', 'f603', 'f604']\n",
      "expected YearBuilt_1988, GarageYrBlt_1926.0, YearBuilt_1964, Exterior1st_AsbShng, RoofMatl_Membran, SaleType_ConLD, MoSold_7, Condition1_RRAn, GarageYrBlt_1980.0, YearRemodAdd_1995, YearBuilt_1925, 3SsnPorch, HouseStyle_1.5Unf, GarageYrBlt_1946.0, MiscFeature_Gar2, MSSubClass_75, GarageYrBlt_1996.0, GarageYrBlt_1995.0, YearBuilt_1929, BsmtExposure_Gd, GarageYrBlt_1981.0, HeatingQC_Fa, YearRemodAdd_1976, GarageYrBlt_1945.0, GarageYrBlt_2000.0, GarageYrBlt_1970.0, LowQualFinSF, RoofStyle_Hip, Neighborhood_BrDale, GarageYrBlt_2009.0, GarageYrBlt_1916.0, GarageFinish_Unf, GarageType_Basment, PoolQC_Ex, YearBuilt_1920, BsmtFinType2_None, YearBuilt_1922, MoSold_6, YearBuilt_1890, KitchenQual_Fa, BsmtQual_Gd, YearBuilt_1916, YearBuilt_1974, YearRemodAdd_1952, GarageYrBlt_1921.0, Condition2_RRAe, GarageQual_None, YearBuilt_1989, YearBuilt_1975, BldgType_Twnhs, GarageYrBlt_1978.0, Exterior2nd_Other, YearBuilt_1980, Fence_GdWo, YearBuilt_1979, BsmtQual_TA, 1stFlrSF, GarageYrBlt_1979.0, GarageYrBlt_1937.0, Exterior1st_MetalSd, LotArea, Neighborhood_IDOTRR, YearBuilt_1931, GarageYrBlt_1999.0, Exterior1st_ImStucc, YearBuilt_2005, Functional_Typ, Alley_None, GarageYrBlt_1941.0, GarageYrBlt_1992.0, Fence_MnWw, YearRemodAdd_1969, PavedDrive_P, YearBuilt_2007, Condition2_RRNn, GarageYrBlt_1965.0, YearBuilt_1872, YearBuilt_1987, HouseStyle_1.5Fin, YearBuilt_1908, YearBuilt_1985, MoSold_1, Neighborhood_Blueste, GarageYrBlt_1971.0, LandContour_Lvl, MoSold_4, HalfBath, RoofMatl_Metal, YearBuilt_1990, ExterQual_Gd, BsmtFullBath, GarageYrBlt_1914.0, GarageYrBlt_1985.0, GarageType_Attchd, YearBuilt_1912, YearBuilt_1986, Heating_Wall, SaleCondition_Abnorml, BsmtExposure_Mn, Exterior1st_Stone, GarageYrBlt_1900.0, MoSold_11, SaleType_ConLw, GarageYrBlt_1986.0, GarageYrBlt_1928.0, YearBuilt_1956, Condition1_RRAe, GarageType_None, LotConfig_CulDSac, ExterQual_Fa, YearRemodAdd_1953, YearBuilt_1936, HeatingQC_Gd, GarageCond_TA, YearBuilt_1955, MSZoning_RM, GarageYrBlt_1993.0, GarageYrBlt_1935.0, YearBuilt_1934, YearBuilt_1906, Foundation_Slab, Exterior1st_BrkFace, HouseStyle_1Story, YearBuilt_1885, MoSold_12, YrSold_2008, YearRemodAdd_1990, BldgType_1Fam, YearBuilt_1927, GarageType_Detchd, YearRemodAdd_2007, YearBuilt_1949, MSSubClass_30, Exterior1st_Plywood, MSSubClass_190, YearBuilt_1914, OverallCond_6, BsmtFinType2_GLQ, YearRemodAdd_2002, GarageYrBlt_1930.0, YearBuilt_1924, HeatingQC_TA, YearBuilt_1892, YearBuilt_1928, OverallCond_3, YearRemodAdd_1994, BsmtFinType2_BLQ, GarageYrBlt_2001.0, LotShape_IR2, GarageArea, BsmtFinSF2, Foundation_Wood, GarageYrBlt_1939.0, GarageYrBlt_1998.0, WoodDeckSF, GarageYrBlt_1949.0, Neighborhood_NAmes, Condition1_Artery, Neighborhood_SWISU, OpenPorchSF, YearBuilt_1976, YearRemodAdd_1971, YearBuilt_1921, GarageYrBlt_1908.0, GarageCars, YearBuilt_2000, Foundation_Stone, YearBuilt_1919, EnclosedPorch, GarageType_2Types, YearBuilt_1983, Functional_Sev, Neighborhood_NPkVill, MiscFeature_Shed, MSSubClass_180, LotFrontage, LotShape_Reg, GarageYrBlt_1922.0, MoSold_9, YearBuilt_1960, GarageQual_TA, Neighborhood_Somerst, GarageCond_Fa, BsmtCond_Gd, YearRemodAdd_1963, GarageYrBlt_1968.0, YearBuilt_1969, YearBuilt_1952, RoofMatl_WdShngl, BsmtQual_Ex, YearRemodAdd_1955, YearBuilt_1992, LandSlope_Mod, MiscFeature_None, Exterior2nd_Wd Sdng, GarageYrBlt_1923.0, GarageYrBlt_2006.0, MoSold_2, OverallCond_4, YearBuilt_1946, Heating_Floor, YearBuilt_1950, BsmtHalfBath, CentralAir_Y, GarageYrBlt_1924.0, SaleCondition_Alloca, BedroomAbvGr, BsmtUnfSF, YearBuilt_1939, YearBuilt_1957, YearRemodAdd_1988, YearBuilt_1913, YearBuilt_1994, Condition2_Feedr, YearBuilt_1917, GarageYrBlt_2003.0, RoofMatl_Tar&Grv, MasVnrType_Stone, YearRemodAdd_1975, BsmtFinType2_LwQ, MoSold_10, MSZoning_C (all), Foundation_CBlock, CentralAir_N, SaleType_CWD, MSSubClass_40, MiscFeature_Othr, YearRemodAdd_1983, MSSubClass_45, YearBuilt_1971, YearRemodAdd_1958, TotRmsAbvGrd, Exterior2nd_BrkFace, GarageYrBlt_1947.0, YearBuilt_1993, GarageFinish_Fin, MSSubClass_70, MoSold_5, Neighborhood_BrkSide, Exterior1st_BrkComm, FullBath, GarageYrBlt_1950.0, Exterior1st_Wd Sdng, GarageYrBlt_1955.0, GarageYrBlt_1954.0, Exterior2nd_MetalSd, YearBuilt_1932, YearBuilt_1977, Exterior1st_WdShing, SaleType_WD, BsmtExposure_None, YearRemodAdd_2004, MasVnrType_BrkFace, BldgType_2fmCon, YearBuilt_1963, MSSubClass_90, BldgType_Duplex, GarageYrBlt_1963.0, Neighborhood_NoRidge, GarageQual_Po, Heating_Grav, MSZoning_RH, Neighborhood_Mitchel, GarageYrBlt_1994.0, BsmtQual_None, YearRemodAdd_1954, YearRemodAdd_1998, MSZoning_RL, YearRemodAdd_1982, Neighborhood_CollgCr, GarageYrBlt_1952.0, GarageYrBlt_1972.0, GarageYrBlt_1931.0, GarageCond_Po, Alley_Pave, LotConfig_FR3, GarageYrBlt_1929.0, ExterCond_TA, Neighborhood_Crawfor, GarageYrBlt_1988.0, YearRemodAdd_1980, YearBuilt_2002, Functional_Min1, YearBuilt_2003, Street_Pave, BsmtCond_Po, BsmtFinType1_LwQ, BsmtFinType2_Unf, GarageQual_Gd, YearRemodAdd_1956, MSZoning_FV, GarageYrBlt_1976.0, YearRemodAdd_1978, YearRemodAdd_1981, YearRemodAdd_2010, YearBuilt_1954, GarageYrBlt_1984.0, Exterior2nd_Wd Shng, OverallCond_7, YearBuilt_2004, YearRemodAdd_1993, YearBuilt_2009, Electrical_FuseF, Exterior1st_CBlock, GarageYrBlt_1982.0, YearBuilt_1982, BsmtFinType1_Rec, YearBuilt_1900, OverallQual, KitchenQual_Ex, YearRemodAdd_1959, RoofStyle_Flat, GarageYrBlt_1953.0, YearBuilt_1915, GarageYrBlt_2005.0, YearRemodAdd_2001, LotConfig_FR2, YearBuilt_1941, SaleType_COD, GarageFinish_RFn, YearBuilt_1967, Alley_Grvl, MasVnrType_None, Exterior1st_VinylSd, YrSold_2007, Neighborhood_NWAmes, YrSold_2006, YearRemodAdd_1950, YearBuilt_1942, HouseStyle_2Story, RoofMatl_CompShg, MasVnrArea, GarageYrBlt_1962.0, YearRemodAdd_1991, ScreenPorch, YearRemodAdd_1996, YearBuilt_2008, YrSold_2009, Neighborhood_SawyerW, YearBuilt_1926, YearRemodAdd_1961, GarageYrBlt_1925.0, OverallCond_5, YearBuilt_1911, YearRemodAdd_1957, BsmtCond_TA, GarageYrBlt_1966.0, YearBuilt_2001, GarageYrBlt_1974.0, YearBuilt_1962, Exterior2nd_Stone, GarageYrBlt_1964.0, LotConfig_Inside, Neighborhood_Edwards, Exterior2nd_HdBoard, Exterior1st_HdBoard, Functional_Maj2, SaleType_New, Fireplaces, Condition1_RRNn, YearBuilt_1978, SaleType_ConLI, GarageYrBlt_1990.0, ExterCond_Po, YearBuilt_1995, YearRemodAdd_2000, YearRemodAdd_1968, Id, RoofMatl_ClyTile, GarageQual_Fa, MSSubClass_85, SaleCondition_AdjLand, Functional_Min2, GarageYrBlt_1969.0, YearBuilt_1970, YearBuilt_1935, MSSubClass_120, YearRemodAdd_1989, YearRemodAdd_1985, PavedDrive_N, Exterior1st_AsphShn, GarageQual_Ex, OverallCond_2, Exterior2nd_ImStucc, RoofStyle_Shed, RoofMatl_Roll, Exterior1st_Stucco, RoofStyle_Gambrel, SaleCondition_Partial, YearBuilt_1923, GrLivArea, BsmtFinType1_BLQ, MoSold_3, FireplaceQu_Po, GarageType_CarPort, Neighborhood_ClearCr, LandSlope_Sev, YearBuilt_1997, GarageYrBlt_2002.0, BsmtCond_Fa, Exterior1st_CemntBd, GarageYrBlt_1938.0, FireplaceQu_Gd, GarageYrBlt_1932.0, GarageType_BuiltIn, YearBuilt_1940, GarageYrBlt_1940.0, YearBuilt_1973, MSSubClass_60, YearBuilt_1910, Neighborhood_Sawyer, GarageYrBlt_1927.0, YearRemodAdd_1962, GarageYrBlt_2010.0, PoolQC_Fa, YrSold_2010, YearRemodAdd_1964, SaleCondition_Family, YearBuilt_1882, Electrical_FuseP, YearRemodAdd_2006, LandContour_HLS, Foundation_BrkTil, HouseStyle_SLvl, ExterCond_Ex, BsmtFinType1_ALQ, Street_Grvl, YearRemodAdd_1999, HouseStyle_2.5Fin, FireplaceQu_Ex, MSSubClass_20, YearBuilt_1951, Neighborhood_MeadowV, PavedDrive_Y, Exterior2nd_Stucco, Fence_MnPrv, GarageYrBlt_1987.0, YearBuilt_1875, LotShape_IR3, YearBuilt_1961, KitchenQual_Gd, Electrical_SBrkr, YearRemodAdd_1987, Exterior2nd_Brk Cmn, GarageYrBlt_1920.0, KitchenAbvGr, GarageYrBlt_1956.0, Exterior2nd_AsbShng, Condition2_Norm, YearBuilt_1981, Neighborhood_Veenker, OverallCond_1, Condition1_RRNe, YearBuilt_1953, Exterior2nd_Plywood, OverallCond_9, YearRemodAdd_1984, LandSlope_Gtl, Functional_Maj1, Neighborhood_Blmngtn, Condition1_Norm, ExterQual_Ex, YearBuilt_1999, BsmtFinType2_ALQ, YearRemodAdd_1972, GarageYrBlt_1906.0, YearBuilt_2010, YearBuilt_1984, Functional_Mod, ExterCond_Gd, GarageCond_Gd, GarageYrBlt_1958.0, Neighborhood_Gilbert, LotShape_IR1, 2ndFlrSF, YearRemodAdd_1973, GarageYrBlt_1915.0, GarageYrBlt_1989.0, GarageYrBlt_1957.0, YearBuilt_1959, YearBuilt_1905, YearRemodAdd_1977, Neighborhood_OldTown, ExterQual_TA, GarageYrBlt_0.0, YearRemodAdd_1960, ExterCond_Fa, YearBuilt_1947, GarageYrBlt_1948.0, GarageYrBlt_1997.0, SaleType_Oth, GarageYrBlt_1933.0, GarageYrBlt_2007.0, YearRemodAdd_1965, GarageYrBlt_1959.0, YearBuilt_1972, BsmtExposure_No, YearRemodAdd_1970, Heating_GasA, BsmtQual_Fa, PoolQC_Gd, RoofMatl_WdShake, BsmtCond_None, Heating_OthW, GarageYrBlt_1936.0, SaleCondition_Normal, Neighborhood_NridgHt, YearBuilt_1948, LotConfig_Corner, YearRemodAdd_2003, GarageYrBlt_2004.0, SaleType_Con, YearBuilt_1893, YearRemodAdd_2008, BsmtFinType1_Unf, GarageYrBlt_1934.0, YearBuilt_1966, MSSubClass_160, MiscVal, BsmtExposure_Av, FireplaceQu_Fa, GarageCond_Ex, RoofStyle_Mansard, Condition2_PosA, YearBuilt_1991, YearBuilt_1898, GarageYrBlt_1918.0, GarageYrBlt_1951.0, TotalBsmtSF, FireplaceQu_None, YearBuilt_2006, YearBuilt_1880, YearRemodAdd_1979, GarageYrBlt_1910.0, MoSold_8, BsmtFinType1_None, YearBuilt_1958, YearBuilt_1965, Electrical_Mix, BldgType_TwnhsE, YearBuilt_1937, YearRemodAdd_1966, Electrical_FuseA, YearRemodAdd_1974, Neighborhood_StoneBr, GarageYrBlt_1977.0, GarageYrBlt_1983.0, GarageYrBlt_1975.0, Condition2_PosN, YearBuilt_1918, YearBuilt_1930, Foundation_PConc, Heating_GasW, MiscFeature_TenC, Condition1_Feedr, YearRemodAdd_1951, FireplaceQu_TA, KitchenQual_TA, GarageYrBlt_1991.0, YearBuilt_1998, Exterior2nd_CmentBd, BsmtFinType2_Rec, Condition1_PosN, HouseStyle_2.5Unf, Condition2_Artery, YearBuilt_1996, PoolQC_None, GarageYrBlt_1942.0, YearRemodAdd_2009, YearRemodAdd_1986, GarageYrBlt_1973.0, Exterior2nd_CBlock, GarageYrBlt_1967.0, YearRemodAdd_1992, YearRemodAdd_2005, Condition1_PosA, GarageFinish_None, GarageYrBlt_1961.0, YearRemodAdd_1967, YearBuilt_1945, YearRemodAdd_1997, HeatingQC_Po, Exterior2nd_AsphShn, HeatingQC_Ex, HouseStyle_SFoyer, BsmtFinType1_GLQ, Neighborhood_Timber, YearBuilt_1938, YearBuilt_1968, BsmtFinSF1, MSSubClass_80, YearBuilt_1904, LandContour_Bnk, Fence_None, Condition2_RRAn, LandContour_Low, PoolArea, Fence_GdPrv, MasVnrType_BrkCmn, GarageYrBlt_2008.0, MSSubClass_50, GarageYrBlt_1960.0, RoofStyle_Gable, OverallCond_8, Exterior2nd_VinylSd in input data\n",
      "training data did not have the following fields: f133, f402, f33, f515, f485, f22, f51, f232, f251, f540, f432, f257, f92, f286, f431, f386, f207, f38, f494, f464, f176, f543, f204, f376, f107, f495, f574, f75, f175, f391, f213, f465, f131, f457, f511, f448, f311, f419, f395, f412, f441, f528, f536, f11, f274, f571, f211, f600, f128, f517, f44, f194, f73, f117, f16, f562, f283, f202, f526, f79, f508, f325, f264, f137, f200, f359, f29, f460, f587, f503, f560, f559, f589, f357, f599, f177, f466, f361, f143, f47, f113, f69, f244, f442, f185, f268, f77, f340, f165, f567, f287, f18, f314, f533, f259, f407, f415, f529, f149, f338, f315, f519, f323, f308, f316, f475, f253, f135, f169, f19, f167, f492, f425, f477, f328, f522, f243, f270, f452, f500, f370, f538, f369, f429, f293, f518, f510, f480, f603, f265, f210, f6, f190, f588, f379, f521, f25, f260, f261, f89, f178, f183, f58, f505, f580, f2, f410, f45, f310, f12, f21, f86, f275, f506, f527, f401, f154, f280, f496, f343, f551, f116, f166, f539, f604, f74, f263, f237, f249, f71, f90, f23, f561, f281, f125, f187, f172, f408, f353, f321, f371, f483, f214, f146, f344, f396, f238, f59, f439, f358, f426, f67, f199, f301, f245, f170, f273, f360, f233, f36, f497, f216, f138, f39, f298, f320, f218, f435, f284, f597, f57, f203, f267, f247, f153, f377, f385, f61, f601, f548, f147, f151, f87, f595, f421, f373, f478, f468, f327, f557, f337, f226, f542, f487, f399, f585, f230, f163, f65, f225, f82, f109, f341, f476, f501, f546, f570, f192, f493, f174, f309, f215, f269, f446, f530, f319, f524, f182, f209, f288, f331, f525, f285, f445, f467, f136, f252, f279, f390, f49, f54, f31, f119, f577, f398, f312, f123, f142, f440, f145, f397, f592, f579, f499, f124, f345, f103, f246, f367, f484, f383, f348, f365, f364, f239, f304, f91, f573, f598, f256, f346, f596, f384, f534, f456, f266, f514, f84, f307, f481, f553, f549, f535, f14, f420, f222, f350, f498, f150, f40, f250, f326, f134, f160, f406, f158, f582, f272, f578, f486, f564, f278, f48, f354, f228, f271, f229, f106, f317, f277, f436, f303, f324, f430, f282, f300, f231, f444, f547, f489, f189, f9, f173, f306, f234, f455, f482, f565, f566, f248, f290, f53, f409, f342, f347, f10, f593, f458, f459, f550, f157, f42, f4, f81, f405, f139, f236, f56, f254, f523, f362, f471, f223, f201, f99, f168, f507, f470, f443, f112, f454, f144, f240, f198, f5, f532, f568, f37, f241, f461, f17, f590, f403, f453, f563, f97, f121, f381, f195, f164, f180, f110, f196, f20, f24, f558, f424, f30, f122, f392, f352, f111, f374, f313, f127, f336, f332, f363, f433, f447, f129, f8, f333, f389, f292, f171, f186, f512, f96, f141, f416, f95, f108, f60, f594, f78, f556, f400, f516, f193, f382, f217, f197, f393, f62, f55, f227, f418, f83, f70, f537, f545, f104, f0, f387, f101, f349, f368, f541, f451, f355, f449, f572, f427, f188, f191, f305, f302, f1, f80, f428, f35, f102, f179, f413, f581, f235, f258, f576, f602, f255, f291, f94, f491, f220, f276, f335, f575, f380, f76, f206, f329, f68, f450, f7, f294, f552, f152, f462, f13, f591, f118, f330, f554, f488, f318, f378, f32, f513, f3, f569, f15, f417, f472, f162, f586, f297, f479, f50, f334, f43, f63, f88, f34, f130, f434, f438, f404, f132, f155, f366, f205, f242, f414, f72, f504, f93, f208, f394, f27, f299, f474, f296, f85, f351, f322, f356, f423, f555, f159, f531, f583, f509, f120, f469, f126, f463, f212, f140, f161, f46, f388, f584, f262, f520, f295, f339, f224, f490, f148, f221, f544, f184, f411, f105, f114, f473, f66, f422, f98, f181, f375, f26, f64, f52, f437, f28, f100, f156, f502, f219, f41, f289, f372, f115.\n"
     ]
    },
    {
     "name": "stdout",
     "output_type": "stream",
     "text": [
      "\r",
      "Pipeline encountered that has previously been evaluated during the optimization process. Using the score from the previous evaluation.\n",
      "\r",
      "Pipeline encountered that has previously been evaluated during the optimization process. Using the score from the previous evaluation.\n"
     ]
    },
    {
     "name": "stderr",
     "output_type": "stream",
     "text": [
      "distributed.nanny - WARNING - Worker exceeded 95% memory budget. Restarting\n",
      "distributed.nanny - WARNING - Restarting worker\n",
      "distributed.nanny - WARNING - Worker exceeded 95% memory budget. Restarting\n",
      "distributed.nanny - WARNING - Restarting worker\n",
      "distributed.nanny - WARNING - Worker exceeded 95% memory budget. Restarting\n",
      "distributed.nanny - WARNING - Restarting worker\n",
      "distributed.nanny - WARNING - Worker exceeded 95% memory budget. Restarting\n",
      "distributed.nanny - WARNING - Restarting worker\n",
      "distributed.nanny - WARNING - Worker exceeded 95% memory budget. Restarting\n",
      "distributed.nanny - WARNING - Restarting worker\n",
      "distributed.nanny - WARNING - Worker exceeded 95% memory budget. Restarting\n",
      "distributed.nanny - WARNING - Restarting worker\n",
      "distributed.nanny - WARNING - Worker exceeded 95% memory budget. Restarting\n",
      "distributed.nanny - WARNING - Worker exceeded 95% memory budget. Restarting\n",
      "distributed.nanny - WARNING - Restarting worker\n",
      "distributed.nanny - WARNING - Restarting worker\n",
      "distributed.nanny - WARNING - Worker exceeded 95% memory budget. Restarting\n",
      "distributed.nanny - WARNING - Restarting worker\n",
      "distributed.nanny - WARNING - Worker exceeded 95% memory budget. Restarting\n",
      "distributed.nanny - WARNING - Restarting worker\n",
      "distributed.nanny - WARNING - Worker exceeded 95% memory budget. Restarting\n",
      "distributed.nanny - WARNING - Worker exceeded 95% memory budget. Restarting\n",
      "distributed.nanny - WARNING - Restarting worker\n",
      "distributed.nanny - WARNING - Worker exceeded 95% memory budget. Restarting\n",
      "distributed.nanny - WARNING - Restarting worker\n"
     ]
    },
    {
     "name": "stdout",
     "output_type": "stream",
     "text": [
      "\r"
     ]
    },
    {
     "data": {
      "text/plain": [
       "TPOTRegressor(config_dict=None, crossover_rate=0.1, cv=5,\n",
       "       disable_update_check=False, early_stop=None, generations=50,\n",
       "       max_eval_time_mins=5, max_time_mins=None, memory=None,\n",
       "       mutation_rate=0.9, n_jobs=-1, offspring_size=None,\n",
       "       periodic_checkpoint_folder=None, population_size=50,\n",
       "       random_state=None, scoring=None, subsample=1.0, template=None,\n",
       "       use_dask=True, verbosity=3, warm_start=False)"
      ]
     },
     "execution_count": 49,
     "metadata": {},
     "output_type": "execute_result"
    },
    {
     "name": "stderr",
     "output_type": "stream",
     "text": [
      "distributed.nanny - WARNING - Restarting worker\n"
     ]
    }
   ],
   "source": [
    "tp.fit(X_train, y_train)"
   ]
  },
  {
   "cell_type": "code",
   "execution_count": 24,
   "metadata": {},
   "outputs": [],
   "source": [
    "from sklearn.linear_model import ElasticNetCV\n",
    "from sklearn.preprocessing import MinMaxScaler"
   ]
  },
  {
   "cell_type": "code",
   "execution_count": 50,
   "metadata": {},
   "outputs": [],
   "source": [
    "tp.export('tpot_pipeline.py')"
   ]
  },
  {
   "cell_type": "code",
   "execution_count": 27,
   "metadata": {},
   "outputs": [],
   "source": [
    "from sklearn.pipeline import make_pipeline"
   ]
  },
  {
   "cell_type": "code",
   "execution_count": 28,
   "metadata": {},
   "outputs": [],
   "source": [
    "exported_pipeline = make_pipeline(\n",
    "    MinMaxScaler(),\n",
    "    ElasticNetCV(l1_ratio=0.45, tol=1e-05)\n",
    ")"
   ]
  },
  {
   "cell_type": "code",
   "execution_count": 29,
   "metadata": {},
   "outputs": [
    {
     "name": "stderr",
     "output_type": "stream",
     "text": [
      "/home/marktrovinger/anaconda3/envs/automatedML/lib/python3.7/site-packages/sklearn/linear_model/coordinate_descent.py:491: ConvergenceWarning: Objective did not converge. You might want to increase the number of iterations. Fitting data with very small alpha may cause precision problems.\n",
      "  ConvergenceWarning)\n"
     ]
    },
    {
     "data": {
      "text/plain": [
       "Pipeline(memory=None,\n",
       "     steps=[('minmaxscaler', MinMaxScaler(copy=True, feature_range=(0, 1))), ('elasticnetcv', ElasticNetCV(alphas=None, copy_X=True, cv=None, eps=0.001, fit_intercept=True,\n",
       "       l1_ratio=0.45, max_iter=1000, n_alphas=100, n_jobs=1,\n",
       "       normalize=False, positive=False, precompute='auto',\n",
       "       random_state=None, selection='cyclic', tol=1e-05, verbose=0))])"
      ]
     },
     "execution_count": 29,
     "metadata": {},
     "output_type": "execute_result"
    }
   ],
   "source": [
    "exported_pipeline.fit(X_train, y_train)"
   ]
  },
  {
   "cell_type": "code",
   "execution_count": 32,
   "metadata": {},
   "outputs": [],
   "source": [
    "results = exported_pipeline.predict(X_test)"
   ]
  },
  {
   "cell_type": "code",
   "execution_count": 33,
   "metadata": {},
   "outputs": [
    {
     "ename": "NameError",
     "evalue": "name 'mean_squared_error' is not defined",
     "output_type": "error",
     "traceback": [
      "\u001b[0;31m---------------------------------------------------------------------------\u001b[0m",
      "\u001b[0;31mNameError\u001b[0m                                 Traceback (most recent call last)",
      "\u001b[0;32m<ipython-input-33-6394a0c6ac68>\u001b[0m in \u001b[0;36m<module>\u001b[0;34m\u001b[0m\n\u001b[0;32m----> 1\u001b[0;31m \u001b[0mmse\u001b[0m \u001b[0;34m=\u001b[0m \u001b[0mmean_squared_error\u001b[0m\u001b[0;34m(\u001b[0m\u001b[0my_test\u001b[0m\u001b[0;34m,\u001b[0m \u001b[0mresults\u001b[0m\u001b[0;34m)\u001b[0m\u001b[0;34m\u001b[0m\u001b[0;34m\u001b[0m\u001b[0m\n\u001b[0m",
      "\u001b[0;31mNameError\u001b[0m: name 'mean_squared_error' is not defined"
     ]
    }
   ],
   "source": [
    "mse = mean_squared_error(y_test, results)"
   ]
  },
  {
   "cell_type": "code",
   "execution_count": 38,
   "metadata": {},
   "outputs": [],
   "source": [
    "now = datetime.now()\n",
    "df_sub.to_csv(os.path.join('submissions', f'ElasticNetCV_{now:%Y%m%d%H%M%S}.csv'))"
   ]
  },
  {
   "cell_type": "code",
   "execution_count": 42,
   "metadata": {},
   "outputs": [],
   "source": [
    "df_pred = pd.read_csv(os.path.join('data','test.csv'))\n",
    "df_pred = process_df(df_pred, is_test=True)\n",
    "\n",
    "c_in_train = [c for c in df_pred.columns.values if c in X_train]\n",
    "c_nin_pred = [c for c in X_train.columns.values if c not in df_pred]\n",
    "\n",
    "df_pred = df_pred.loc[:, c_in_train]\n",
    "\n",
    "for c in c_nin_pred:\n",
    "    df_pred[c] = 0\n",
    "    \n",
    "df_pred = df_pred[X_train.columns]"
   ]
  },
  {
   "cell_type": "code",
   "execution_count": 43,
   "metadata": {},
   "outputs": [],
   "source": [
    "results = exported_pipeline.predict(df_pred)"
   ]
  },
  {
   "cell_type": "code",
   "execution_count": 45,
   "metadata": {},
   "outputs": [],
   "source": [
    "df_sub = pd.DataFrame(results, index=df_pred['Id'], columns=['SalePrice'])"
   ]
  },
  {
   "cell_type": "code",
   "execution_count": 46,
   "metadata": {},
   "outputs": [],
   "source": [
    "df_sub['SalePrice'] = inv_boxcox(df_sub['SalePrice'], lmbda_opts['SalePrice'])"
   ]
  },
  {
   "cell_type": "code",
   "execution_count": 47,
   "metadata": {},
   "outputs": [],
   "source": [
    "now = datetime.now()\n",
    "df_sub.to_csv(os.path.join('submissions', f'ElasticNetCV_{now:%Y%m%d%H%M%S}.csv'))"
   ]
  },
  {
   "cell_type": "code",
   "execution_count": null,
   "metadata": {},
   "outputs": [],
   "source": []
  }
 ],
 "metadata": {
  "kernelspec": {
   "display_name": "Python 3",
   "language": "python",
   "name": "python3"
  },
  "language_info": {
   "codemirror_mode": {
    "name": "ipython",
    "version": 3
   },
   "file_extension": ".py",
   "mimetype": "text/x-python",
   "name": "python",
   "nbconvert_exporter": "python",
   "pygments_lexer": "ipython3",
   "version": "3.7.3"
  }
 },
 "nbformat": 4,
 "nbformat_minor": 2
}
